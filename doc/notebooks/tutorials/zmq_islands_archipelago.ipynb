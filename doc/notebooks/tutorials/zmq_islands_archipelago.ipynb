{
 "cells": [
  {
   "cell_type": "markdown",
   "metadata": {},
   "source": [
    "Using ZeroMQ islands in an archipelago\n",
    "====================\n",
    "\n",
    "While ZeroMQ islands can be used standalone (without being part of an archipelago), they are used most effectively inside one. The idea is that through archipelago migration strategies, local islands exchange individuals with a single ZeroMQ inside it, which acts as a nexus to send solutions to other archipelagos with ZeroMQ islands inside them. This also works in reverse; a ZeroMQ island is constantly receiving population broadcasts from its peers, so the archipelago can migrate them from there to other islands.\n",
    "\n",
    "<img src=\"https://camo.githubusercontent.com/281c87e6ee5c4831d80643d126c01fd6f23b3897/687474703a2f2f692e696d6775722e636f6d2f7a51764465666c2e706e67\">\n",
    "\n",
    "In this image there are three archipelagos, each with a different topology. The dotted lines represent the ZeroMQ network, which is always fully connected.\n",
    "\n",
    "To simplify the example, the following program instantiates an archipelago with three local islands and one ZeroMQ island."
   ]
  },
  {
   "cell_type": "code",
   "execution_count": 1,
   "metadata": {
    "collapsed": true
   },
   "outputs": [],
   "source": [
    "from PyGMO import *\n",
    "import time\n",
    "\n",
    "prob = problem.schwefel(10)\n",
    "algo = algorithm.de(10)\n",
    "\n",
    "zmqisl = zmq_island(algo, prob, 20)\n",
    "zmqisl.set_broker_details(\"127.0.0.1\", 6379)\n",
    "zmqisl.set_token(\"schwefel10_de10_pop20\")\n",
    "zmqisl.set_ip(\"127.0.0.1\")\n",
    "\n",
    "archi = archipelago(algo, prob, 3, 20)\n",
    "archi.push_back(zmqisl)\n",
    "\n",
    "def evolve():\n",
    "    archi.evolve(1)\n",
    "    for isl in archi:\n",
    "        if isl.get_name().startswith(\"ZMQ\"):\n",
    "            return(isl.population.champion.x[0])\n",
    "\n",
    "    time.sleep(1)"
   ]
  },
  {
   "cell_type": "markdown",
   "metadata": {},
   "source": [
    "The following demonstrations will use graphics and plots, so we need to load matplotlib:"
   ]
  },
  {
   "cell_type": "code",
   "execution_count": 2,
   "metadata": {
    "collapsed": true
   },
   "outputs": [],
   "source": [
    "%matplotlib inline\n",
    "import matplotlib.pyplot as plt"
   ]
  },
  {
   "cell_type": "markdown",
   "metadata": {},
   "source": [
    "Now we will evolve the archipelago 20 times and record the value of the best individual in the ZeroMQ island over time, and plot the results."
   ]
  },
  {
   "cell_type": "code",
   "execution_count": 3,
   "metadata": {
    "collapsed": false
   },
   "outputs": [
    {
     "data": {
      "text/plain": [
       "[<matplotlib.lines.Line2D at 0x7f7bd3cc4ba8>]"
      ]
     },
     "execution_count": 3,
     "metadata": {},
     "output_type": "execute_result"
    },
    {
     "data": {
      "image/png": "[encoded data removed]",
      "text/plain": [
       "<matplotlib.figure.Figure at 0x7f7bd3cd46d8>"
      ]
     },
     "metadata": {},
     "output_type": "display_data"
    }
   ],
   "source": [
    "results = [evolve() for _ in range(20)]\n",
    "plt.plot(results)"
   ]
  },
  {
   "cell_type": "markdown",
   "metadata": {},
   "source": [
    "After resetting the archipelago and ZeroMQ island, I'll start another instance of this code on a different window (because IPython can't execute two processes simultaneously) and see how the performance compares."
   ]
  },
  {
   "cell_type": "code",
   "execution_count": 4,
   "metadata": {
    "collapsed": false
   },
   "outputs": [],
   "source": [
    "del zmqisl\n",
    "\n",
    "zmqisl2 = zmq_island(algo, prob, 20)\n",
    "zmqisl2.set_broker_details(\"127.0.0.1\", 6379)\n",
    "zmqisl2.set_token(\"schwefel10_de10_pop20\")\n",
    "zmqisl2.set_ip(\"127.0.0.1\")\n",
    "\n",
    "archi2 = archipelago(algo, prob, 3, 20)\n",
    "archi2.push_back(zmqisl2)"
   ]
  },
  {
   "cell_type": "code",
   "execution_count": 5,
   "metadata": {
    "collapsed": false
   },
   "outputs": [
    {
     "data": {
      "text/plain": [
       "[<matplotlib.lines.Line2D at 0x7f7bd03d5e80>]"
      ]
     },
     "execution_count": 5,
     "metadata": {},
     "output_type": "execute_result"
    },
    {
     "data": {
      "image/png": "[encoded data removed]",
      "text/plain": [
       "<matplotlib.figure.Figure at 0x7f7bd1c6b128>"
      ]
     },
     "metadata": {},
     "output_type": "display_data"
    }
   ],
   "source": [
    "results2 = [evolve() for _ in range(20)]\n",
    "plt.plot(results2)"
   ]
  },
  {
   "cell_type": "markdown",
   "metadata": {},
   "source": [
    "As you can see, we get to the result much more quickly because the off-screen instance of this program had been working for a few seconds and was very close to the answer already."
   ]
  },
  {
   "cell_type": "code",
   "execution_count": null,
   "metadata": {
    "collapsed": true
   },
   "outputs": [],
   "source": []
  }
 ],
 "metadata": {
  "kernelspec": {
   "display_name": "Python 3",
   "language": "python",
   "name": "python3"
  },
  "language_info": {
   "codemirror_mode": {
    "name": "ipython",
    "version": 3
   },
   "file_extension": ".py",
   "mimetype": "text/x-python",
   "name": "python",
   "nbconvert_exporter": "python",
   "pygments_lexer": "ipython3",
   "version": "3.4.3"
  }
 },
 "nbformat": 4,
 "nbformat_minor": 0
}
